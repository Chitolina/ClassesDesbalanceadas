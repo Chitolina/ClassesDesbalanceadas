{
 "cells": [
  {
   "cell_type": "markdown",
   "id": "65976c14",
   "metadata": {},
   "source": [
    "### Lidando com Classes Desbalanceadas"
   ]
  },
  {
   "cell_type": "markdown",
   "id": "bebfa264",
   "metadata": {},
   "source": [
    "Impacta modelos de ML, pois vai aprender muito de determinada classe, e pouco de outra\n",
    "Ex: sistema de detecção de Fraudes (90% não são, 10% são)\n",
    "Problemas em que naturalmente haverão classes desbalanceadas"
   ]
  },
  {
   "cell_type": "markdown",
   "id": "f8c4926f",
   "metadata": {},
   "source": [
    "#### Como lidar?\n",
    "\n",
    "1) Undersamplin: remover dados da classe majoritária e igualar as duas classes\n",
    "              *pode acabar removendo dados importantes\n",
    "              *gera um dataset com poucos N amostrais\n",
    "             \n",
    "              NearMiss: descobre quais dados mais se separam entre as duas classes, prioriza esses para mantê-los, e reduz os dados da majoritária visando retirar os dados mais próximos à classe minoritária; assim iguala o dataset, porém a identidade de cada classe é mantida.\n",
    "\n",
    "2) Oversampling: replicar dados aleatórios da classe minoritária.\n",
    "              *pode acontecer overfitting\n",
    "                \n",
    "              Smote: permite fzer oversampling, porém a partir de vizinhos      próximos. Usa dados sintéticos a partir dos vizinhos próximos da classe. Com isso não está duplicando os dados, mas sim gerando. Porém, caso gere muitos dados, também pode gerar overfitting.\n",
    "              \n",
    "3) Engenharia de Features: gerar novos features, tende a dar mais robustez e   melhora a classeificação da classe minoritária.\n",
    "               *envolve mais esforço."
   ]
  },
  {
   "cell_type": "code",
   "execution_count": 35,
   "id": "8bf90aa5",
   "metadata": {},
   "outputs": [
    {
     "name": "stdout",
     "output_type": "stream",
     "text": [
      "Requirement already satisfied: imblearn in c:\\users\\lucas\\anaconda3\\lib\\site-packages (0.0)\n",
      "Requirement already satisfied: imbalanced-learn in c:\\users\\lucas\\anaconda3\\lib\\site-packages (from imblearn) (0.7.0)\n",
      "Requirement already satisfied: joblib>=0.11 in c:\\users\\lucas\\anaconda3\\lib\\site-packages (from imbalanced-learn->imblearn) (1.0.1)\n",
      "Requirement already satisfied: numpy>=1.13.3 in c:\\users\\lucas\\anaconda3\\lib\\site-packages (from imbalanced-learn->imblearn) (1.19.5)\n",
      "Requirement already satisfied: scipy>=0.19.1 in c:\\users\\lucas\\anaconda3\\lib\\site-packages (from imbalanced-learn->imblearn) (1.5.4)\n",
      "Requirement already satisfied: scikit-learn>=0.23 in c:\\users\\lucas\\anaconda3\\lib\\site-packages (from imbalanced-learn->imblearn) (0.23.2)\n",
      "Requirement already satisfied: threadpoolctl>=2.0.0 in c:\\users\\lucas\\anaconda3\\lib\\site-packages (from scikit-learn>=0.23->imbalanced-learn->imblearn) (2.1.0)\n"
     ]
    }
   ],
   "source": [
    "!pip install imblearn\n",
    "import warnings\n",
    "warnings.filterwarnings(\"ignore\", category=DeprecationWarning)"
   ]
  },
  {
   "cell_type": "code",
   "execution_count": 37,
   "id": "bf495163",
   "metadata": {
    "scrolled": true
   },
   "outputs": [],
   "source": [
    "import numpy as np\n",
    "import pandas as pd\n",
    "from sklearn.linear_model import LogisticRegression\n",
    "from sklearn.model_selection import train_test_split\n",
    "from sklearn.metrics import accuracy_score, confusion_matrix, classification_report\n",
    "from imblearn.over_sampling import SMOTE\n",
    "from imblearn.under_sampling import NearMiss\n",
    "import seaborn as sns"
   ]
  },
  {
   "cell_type": "markdown",
   "id": "ce955222",
   "metadata": {},
   "source": [
    "#### Modelo com classes desbalanceadas"
   ]
  },
  {
   "cell_type": "code",
   "execution_count": 173,
   "id": "8aabd2cb",
   "metadata": {},
   "outputs": [
    {
     "data": {
      "text/html": [
       "<div>\n",
       "<style scoped>\n",
       "    .dataframe tbody tr th:only-of-type {\n",
       "        vertical-align: middle;\n",
       "    }\n",
       "\n",
       "    .dataframe tbody tr th {\n",
       "        vertical-align: top;\n",
       "    }\n",
       "\n",
       "    .dataframe thead th {\n",
       "        text-align: right;\n",
       "    }\n",
       "</style>\n",
       "<table border=\"1\" class=\"dataframe\">\n",
       "  <thead>\n",
       "    <tr style=\"text-align: right;\">\n",
       "      <th></th>\n",
       "      <th>age</th>\n",
       "      <th>job</th>\n",
       "      <th>marital</th>\n",
       "      <th>education</th>\n",
       "      <th>default</th>\n",
       "      <th>balance</th>\n",
       "      <th>housing</th>\n",
       "      <th>loan</th>\n",
       "      <th>contact</th>\n",
       "      <th>day</th>\n",
       "      <th>month</th>\n",
       "      <th>duration</th>\n",
       "      <th>campaign</th>\n",
       "      <th>pdays</th>\n",
       "      <th>previous</th>\n",
       "      <th>poutcome</th>\n",
       "      <th>y</th>\n",
       "    </tr>\n",
       "  </thead>\n",
       "  <tbody>\n",
       "    <tr>\n",
       "      <th>0</th>\n",
       "      <td>30</td>\n",
       "      <td>unemployed</td>\n",
       "      <td>married</td>\n",
       "      <td>primary</td>\n",
       "      <td>no</td>\n",
       "      <td>1787</td>\n",
       "      <td>no</td>\n",
       "      <td>no</td>\n",
       "      <td>cellular</td>\n",
       "      <td>19</td>\n",
       "      <td>oct</td>\n",
       "      <td>79</td>\n",
       "      <td>1</td>\n",
       "      <td>-1</td>\n",
       "      <td>0</td>\n",
       "      <td>unknown</td>\n",
       "      <td>no</td>\n",
       "    </tr>\n",
       "    <tr>\n",
       "      <th>1</th>\n",
       "      <td>33</td>\n",
       "      <td>services</td>\n",
       "      <td>married</td>\n",
       "      <td>secondary</td>\n",
       "      <td>no</td>\n",
       "      <td>4789</td>\n",
       "      <td>yes</td>\n",
       "      <td>yes</td>\n",
       "      <td>cellular</td>\n",
       "      <td>11</td>\n",
       "      <td>may</td>\n",
       "      <td>220</td>\n",
       "      <td>1</td>\n",
       "      <td>339</td>\n",
       "      <td>4</td>\n",
       "      <td>failure</td>\n",
       "      <td>no</td>\n",
       "    </tr>\n",
       "    <tr>\n",
       "      <th>2</th>\n",
       "      <td>35</td>\n",
       "      <td>management</td>\n",
       "      <td>single</td>\n",
       "      <td>tertiary</td>\n",
       "      <td>no</td>\n",
       "      <td>1350</td>\n",
       "      <td>yes</td>\n",
       "      <td>no</td>\n",
       "      <td>cellular</td>\n",
       "      <td>16</td>\n",
       "      <td>apr</td>\n",
       "      <td>185</td>\n",
       "      <td>1</td>\n",
       "      <td>330</td>\n",
       "      <td>1</td>\n",
       "      <td>failure</td>\n",
       "      <td>no</td>\n",
       "    </tr>\n",
       "    <tr>\n",
       "      <th>3</th>\n",
       "      <td>30</td>\n",
       "      <td>management</td>\n",
       "      <td>married</td>\n",
       "      <td>tertiary</td>\n",
       "      <td>no</td>\n",
       "      <td>1476</td>\n",
       "      <td>yes</td>\n",
       "      <td>yes</td>\n",
       "      <td>unknown</td>\n",
       "      <td>3</td>\n",
       "      <td>jun</td>\n",
       "      <td>199</td>\n",
       "      <td>4</td>\n",
       "      <td>-1</td>\n",
       "      <td>0</td>\n",
       "      <td>unknown</td>\n",
       "      <td>no</td>\n",
       "    </tr>\n",
       "    <tr>\n",
       "      <th>4</th>\n",
       "      <td>59</td>\n",
       "      <td>blue-collar</td>\n",
       "      <td>married</td>\n",
       "      <td>secondary</td>\n",
       "      <td>no</td>\n",
       "      <td>0</td>\n",
       "      <td>yes</td>\n",
       "      <td>no</td>\n",
       "      <td>unknown</td>\n",
       "      <td>5</td>\n",
       "      <td>may</td>\n",
       "      <td>226</td>\n",
       "      <td>1</td>\n",
       "      <td>-1</td>\n",
       "      <td>0</td>\n",
       "      <td>unknown</td>\n",
       "      <td>no</td>\n",
       "    </tr>\n",
       "  </tbody>\n",
       "</table>\n",
       "</div>"
      ],
      "text/plain": [
       "   age          job  marital  education default  balance housing loan  \\\n",
       "0   30   unemployed  married    primary      no     1787      no   no   \n",
       "1   33     services  married  secondary      no     4789     yes  yes   \n",
       "2   35   management   single   tertiary      no     1350     yes   no   \n",
       "3   30   management  married   tertiary      no     1476     yes  yes   \n",
       "4   59  blue-collar  married  secondary      no        0     yes   no   \n",
       "\n",
       "    contact  day month  duration  campaign  pdays  previous poutcome   y  \n",
       "0  cellular   19   oct        79         1     -1         0  unknown  no  \n",
       "1  cellular   11   may       220         1    339         4  failure  no  \n",
       "2  cellular   16   apr       185         1    330         1  failure  no  \n",
       "3   unknown    3   jun       199         4     -1         0  unknown  no  \n",
       "4   unknown    5   may       226         1     -1         0  unknown  no  "
      ]
     },
     "execution_count": 173,
     "metadata": {},
     "output_type": "execute_result"
    }
   ],
   "source": [
    "df = pd.read_csv(\"bank.csv\",sep=\";\")\n",
    "df.head()"
   ]
  },
  {
   "cell_type": "code",
   "execution_count": 174,
   "id": "df3b3c83",
   "metadata": {},
   "outputs": [
    {
     "name": "stdout",
     "output_type": "stream",
     "text": [
      "<class 'pandas.core.frame.DataFrame'>\n",
      "RangeIndex: 4521 entries, 0 to 4520\n",
      "Data columns (total 17 columns):\n",
      " #   Column     Non-Null Count  Dtype \n",
      "---  ------     --------------  ----- \n",
      " 0   age        4521 non-null   int64 \n",
      " 1   job        4521 non-null   object\n",
      " 2   marital    4521 non-null   object\n",
      " 3   education  4521 non-null   object\n",
      " 4   default    4521 non-null   object\n",
      " 5   balance    4521 non-null   int64 \n",
      " 6   housing    4521 non-null   object\n",
      " 7   loan       4521 non-null   object\n",
      " 8   contact    4521 non-null   object\n",
      " 9   day        4521 non-null   int64 \n",
      " 10  month      4521 non-null   object\n",
      " 11  duration   4521 non-null   int64 \n",
      " 12  campaign   4521 non-null   int64 \n",
      " 13  pdays      4521 non-null   int64 \n",
      " 14  previous   4521 non-null   int64 \n",
      " 15  poutcome   4521 non-null   object\n",
      " 16  y          4521 non-null   object\n",
      "dtypes: int64(7), object(10)\n",
      "memory usage: 600.6+ KB\n"
     ]
    }
   ],
   "source": [
    "df.info()\n",
    "\n",
    "#podemos transformar object em numéricas"
   ]
  },
  {
   "cell_type": "markdown",
   "id": "e29ebb93",
   "metadata": {},
   "source": [
    "### Formatando algumas colunas"
   ]
  },
  {
   "cell_type": "code",
   "execution_count": 175,
   "id": "20a62198",
   "metadata": {},
   "outputs": [],
   "source": [
    "# Transformando categoricos em boolean\n",
    "df[\"default\"]= df[\"default\"].map({\"no\":0,\"yes\":1})\n",
    "df[\"housing\"] = df[\"housing\"].map({\"no\":0,\"yes\":1})\n",
    "df[\"loan\"] = df[\"loan\"].map({\"no\":0,\"yes\":1}) \n",
    "df[\"y\"] = df[\"y\"].map({\"no\":0,\"yes\":1}) \n",
    "\n",
    "df.education = df.education.map({\"primary\":0, \"secondary\":1, \"tertiary\":2})\n",
    "df.poutcome = df.poutcome.map({\"unknown\":0, \"failure\":1, \"other\":2,\"success\":3})\n",
    "df.contact = df.contact.map({\"cellular\":0, \"unknown\":1, \"telephone\":2})\n",
    "df.month = pd.to_datetime(df.month, format = \"%b\").dt.month"
   ]
  },
  {
   "cell_type": "code",
   "execution_count": 176,
   "id": "f939462f",
   "metadata": {},
   "outputs": [
    {
     "data": {
      "text/plain": [
       "age            0\n",
       "job            0\n",
       "marital        0\n",
       "education    187\n",
       "default        0\n",
       "balance        0\n",
       "housing        0\n",
       "loan           0\n",
       "contact        0\n",
       "day            0\n",
       "month          0\n",
       "duration       0\n",
       "campaign       0\n",
       "pdays          0\n",
       "previous       0\n",
       "poutcome       0\n",
       "y              0\n",
       "dtype: int64"
      ]
     },
     "execution_count": 176,
     "metadata": {},
     "output_type": "execute_result"
    }
   ],
   "source": [
    "df.isnull().sum()"
   ]
  },
  {
   "cell_type": "code",
   "execution_count": 177,
   "id": "7c83ccd2",
   "metadata": {},
   "outputs": [],
   "source": [
    "df.dropna(inplace = True) #apagar todas as linhas de todas as colunas q tem nulos"
   ]
  },
  {
   "cell_type": "code",
   "execution_count": 178,
   "id": "0bb17d5d",
   "metadata": {},
   "outputs": [
    {
     "data": {
      "text/html": [
       "<div>\n",
       "<style scoped>\n",
       "    .dataframe tbody tr th:only-of-type {\n",
       "        vertical-align: middle;\n",
       "    }\n",
       "\n",
       "    .dataframe tbody tr th {\n",
       "        vertical-align: top;\n",
       "    }\n",
       "\n",
       "    .dataframe thead th {\n",
       "        text-align: right;\n",
       "    }\n",
       "</style>\n",
       "<table border=\"1\" class=\"dataframe\">\n",
       "  <thead>\n",
       "    <tr style=\"text-align: right;\">\n",
       "      <th></th>\n",
       "      <th>age</th>\n",
       "      <th>job</th>\n",
       "      <th>marital</th>\n",
       "      <th>education</th>\n",
       "      <th>default</th>\n",
       "      <th>balance</th>\n",
       "      <th>housing</th>\n",
       "      <th>loan</th>\n",
       "      <th>contact</th>\n",
       "      <th>day</th>\n",
       "      <th>month</th>\n",
       "      <th>duration</th>\n",
       "      <th>campaign</th>\n",
       "      <th>pdays</th>\n",
       "      <th>previous</th>\n",
       "      <th>poutcome</th>\n",
       "      <th>y</th>\n",
       "    </tr>\n",
       "  </thead>\n",
       "  <tbody>\n",
       "    <tr>\n",
       "      <th>0</th>\n",
       "      <td>30</td>\n",
       "      <td>unemployed</td>\n",
       "      <td>married</td>\n",
       "      <td>0.0</td>\n",
       "      <td>0</td>\n",
       "      <td>1787</td>\n",
       "      <td>0</td>\n",
       "      <td>0</td>\n",
       "      <td>0</td>\n",
       "      <td>19</td>\n",
       "      <td>10</td>\n",
       "      <td>79</td>\n",
       "      <td>1</td>\n",
       "      <td>-1</td>\n",
       "      <td>0</td>\n",
       "      <td>0</td>\n",
       "      <td>0</td>\n",
       "    </tr>\n",
       "    <tr>\n",
       "      <th>1</th>\n",
       "      <td>33</td>\n",
       "      <td>services</td>\n",
       "      <td>married</td>\n",
       "      <td>1.0</td>\n",
       "      <td>0</td>\n",
       "      <td>4789</td>\n",
       "      <td>1</td>\n",
       "      <td>1</td>\n",
       "      <td>0</td>\n",
       "      <td>11</td>\n",
       "      <td>5</td>\n",
       "      <td>220</td>\n",
       "      <td>1</td>\n",
       "      <td>339</td>\n",
       "      <td>4</td>\n",
       "      <td>1</td>\n",
       "      <td>0</td>\n",
       "    </tr>\n",
       "    <tr>\n",
       "      <th>2</th>\n",
       "      <td>35</td>\n",
       "      <td>management</td>\n",
       "      <td>single</td>\n",
       "      <td>2.0</td>\n",
       "      <td>0</td>\n",
       "      <td>1350</td>\n",
       "      <td>1</td>\n",
       "      <td>0</td>\n",
       "      <td>0</td>\n",
       "      <td>16</td>\n",
       "      <td>4</td>\n",
       "      <td>185</td>\n",
       "      <td>1</td>\n",
       "      <td>330</td>\n",
       "      <td>1</td>\n",
       "      <td>1</td>\n",
       "      <td>0</td>\n",
       "    </tr>\n",
       "    <tr>\n",
       "      <th>3</th>\n",
       "      <td>30</td>\n",
       "      <td>management</td>\n",
       "      <td>married</td>\n",
       "      <td>2.0</td>\n",
       "      <td>0</td>\n",
       "      <td>1476</td>\n",
       "      <td>1</td>\n",
       "      <td>1</td>\n",
       "      <td>1</td>\n",
       "      <td>3</td>\n",
       "      <td>6</td>\n",
       "      <td>199</td>\n",
       "      <td>4</td>\n",
       "      <td>-1</td>\n",
       "      <td>0</td>\n",
       "      <td>0</td>\n",
       "      <td>0</td>\n",
       "    </tr>\n",
       "    <tr>\n",
       "      <th>4</th>\n",
       "      <td>59</td>\n",
       "      <td>blue-collar</td>\n",
       "      <td>married</td>\n",
       "      <td>1.0</td>\n",
       "      <td>0</td>\n",
       "      <td>0</td>\n",
       "      <td>1</td>\n",
       "      <td>0</td>\n",
       "      <td>1</td>\n",
       "      <td>5</td>\n",
       "      <td>5</td>\n",
       "      <td>226</td>\n",
       "      <td>1</td>\n",
       "      <td>-1</td>\n",
       "      <td>0</td>\n",
       "      <td>0</td>\n",
       "      <td>0</td>\n",
       "    </tr>\n",
       "  </tbody>\n",
       "</table>\n",
       "</div>"
      ],
      "text/plain": [
       "   age          job  marital  education  default  balance  housing  loan  \\\n",
       "0   30   unemployed  married        0.0        0     1787        0     0   \n",
       "1   33     services  married        1.0        0     4789        1     1   \n",
       "2   35   management   single        2.0        0     1350        1     0   \n",
       "3   30   management  married        2.0        0     1476        1     1   \n",
       "4   59  blue-collar  married        1.0        0        0        1     0   \n",
       "\n",
       "   contact  day  month  duration  campaign  pdays  previous  poutcome  y  \n",
       "0        0   19     10        79         1     -1         0         0  0  \n",
       "1        0   11      5       220         1    339         4         1  0  \n",
       "2        0   16      4       185         1    330         1         1  0  \n",
       "3        1    3      6       199         4     -1         0         0  0  \n",
       "4        1    5      5       226         1     -1         0         0  0  "
      ]
     },
     "execution_count": 178,
     "metadata": {},
     "output_type": "execute_result"
    }
   ],
   "source": [
    "df.head()"
   ]
  },
  {
   "cell_type": "markdown",
   "id": "cb491f3c",
   "metadata": {},
   "source": [
    "### Transformando colunas categórias em numéricas"
   ]
  },
  {
   "cell_type": "code",
   "execution_count": 179,
   "id": "15935439",
   "metadata": {},
   "outputs": [],
   "source": [
    "df = pd.get_dummies(df) #transformar cat em num (col job e marital)\n",
    "\n",
    "# para cada valor único da minha coluna job ou marital, ele colocou\n",
    "# esse valor em uma coluna nova, e qd esse valor é o número da coluna,\n",
    "# ele marca com 1 ou 0"
   ]
  },
  {
   "cell_type": "code",
   "execution_count": 180,
   "id": "c5f9a4f8",
   "metadata": {},
   "outputs": [
    {
     "data": {
      "text/html": [
       "<div>\n",
       "<style scoped>\n",
       "    .dataframe tbody tr th:only-of-type {\n",
       "        vertical-align: middle;\n",
       "    }\n",
       "\n",
       "    .dataframe tbody tr th {\n",
       "        vertical-align: top;\n",
       "    }\n",
       "\n",
       "    .dataframe thead th {\n",
       "        text-align: right;\n",
       "    }\n",
       "</style>\n",
       "<table border=\"1\" class=\"dataframe\">\n",
       "  <thead>\n",
       "    <tr style=\"text-align: right;\">\n",
       "      <th></th>\n",
       "      <th>age</th>\n",
       "      <th>education</th>\n",
       "      <th>default</th>\n",
       "      <th>balance</th>\n",
       "      <th>housing</th>\n",
       "      <th>loan</th>\n",
       "      <th>contact</th>\n",
       "      <th>day</th>\n",
       "      <th>month</th>\n",
       "      <th>duration</th>\n",
       "      <th>...</th>\n",
       "      <th>job_retired</th>\n",
       "      <th>job_self-employed</th>\n",
       "      <th>job_services</th>\n",
       "      <th>job_student</th>\n",
       "      <th>job_technician</th>\n",
       "      <th>job_unemployed</th>\n",
       "      <th>job_unknown</th>\n",
       "      <th>marital_divorced</th>\n",
       "      <th>marital_married</th>\n",
       "      <th>marital_single</th>\n",
       "    </tr>\n",
       "  </thead>\n",
       "  <tbody>\n",
       "    <tr>\n",
       "      <th>0</th>\n",
       "      <td>30</td>\n",
       "      <td>0.0</td>\n",
       "      <td>0</td>\n",
       "      <td>1787</td>\n",
       "      <td>0</td>\n",
       "      <td>0</td>\n",
       "      <td>0</td>\n",
       "      <td>19</td>\n",
       "      <td>10</td>\n",
       "      <td>79</td>\n",
       "      <td>...</td>\n",
       "      <td>0</td>\n",
       "      <td>0</td>\n",
       "      <td>0</td>\n",
       "      <td>0</td>\n",
       "      <td>0</td>\n",
       "      <td>1</td>\n",
       "      <td>0</td>\n",
       "      <td>0</td>\n",
       "      <td>1</td>\n",
       "      <td>0</td>\n",
       "    </tr>\n",
       "    <tr>\n",
       "      <th>1</th>\n",
       "      <td>33</td>\n",
       "      <td>1.0</td>\n",
       "      <td>0</td>\n",
       "      <td>4789</td>\n",
       "      <td>1</td>\n",
       "      <td>1</td>\n",
       "      <td>0</td>\n",
       "      <td>11</td>\n",
       "      <td>5</td>\n",
       "      <td>220</td>\n",
       "      <td>...</td>\n",
       "      <td>0</td>\n",
       "      <td>0</td>\n",
       "      <td>1</td>\n",
       "      <td>0</td>\n",
       "      <td>0</td>\n",
       "      <td>0</td>\n",
       "      <td>0</td>\n",
       "      <td>0</td>\n",
       "      <td>1</td>\n",
       "      <td>0</td>\n",
       "    </tr>\n",
       "    <tr>\n",
       "      <th>2</th>\n",
       "      <td>35</td>\n",
       "      <td>2.0</td>\n",
       "      <td>0</td>\n",
       "      <td>1350</td>\n",
       "      <td>1</td>\n",
       "      <td>0</td>\n",
       "      <td>0</td>\n",
       "      <td>16</td>\n",
       "      <td>4</td>\n",
       "      <td>185</td>\n",
       "      <td>...</td>\n",
       "      <td>0</td>\n",
       "      <td>0</td>\n",
       "      <td>0</td>\n",
       "      <td>0</td>\n",
       "      <td>0</td>\n",
       "      <td>0</td>\n",
       "      <td>0</td>\n",
       "      <td>0</td>\n",
       "      <td>0</td>\n",
       "      <td>1</td>\n",
       "    </tr>\n",
       "    <tr>\n",
       "      <th>3</th>\n",
       "      <td>30</td>\n",
       "      <td>2.0</td>\n",
       "      <td>0</td>\n",
       "      <td>1476</td>\n",
       "      <td>1</td>\n",
       "      <td>1</td>\n",
       "      <td>1</td>\n",
       "      <td>3</td>\n",
       "      <td>6</td>\n",
       "      <td>199</td>\n",
       "      <td>...</td>\n",
       "      <td>0</td>\n",
       "      <td>0</td>\n",
       "      <td>0</td>\n",
       "      <td>0</td>\n",
       "      <td>0</td>\n",
       "      <td>0</td>\n",
       "      <td>0</td>\n",
       "      <td>0</td>\n",
       "      <td>1</td>\n",
       "      <td>0</td>\n",
       "    </tr>\n",
       "    <tr>\n",
       "      <th>4</th>\n",
       "      <td>59</td>\n",
       "      <td>1.0</td>\n",
       "      <td>0</td>\n",
       "      <td>0</td>\n",
       "      <td>1</td>\n",
       "      <td>0</td>\n",
       "      <td>1</td>\n",
       "      <td>5</td>\n",
       "      <td>5</td>\n",
       "      <td>226</td>\n",
       "      <td>...</td>\n",
       "      <td>0</td>\n",
       "      <td>0</td>\n",
       "      <td>0</td>\n",
       "      <td>0</td>\n",
       "      <td>0</td>\n",
       "      <td>0</td>\n",
       "      <td>0</td>\n",
       "      <td>0</td>\n",
       "      <td>1</td>\n",
       "      <td>0</td>\n",
       "    </tr>\n",
       "  </tbody>\n",
       "</table>\n",
       "<p>5 rows × 30 columns</p>\n",
       "</div>"
      ],
      "text/plain": [
       "   age  education  default  balance  housing  loan  contact  day  month  \\\n",
       "0   30        0.0        0     1787        0     0        0   19     10   \n",
       "1   33        1.0        0     4789        1     1        0   11      5   \n",
       "2   35        2.0        0     1350        1     0        0   16      4   \n",
       "3   30        2.0        0     1476        1     1        1    3      6   \n",
       "4   59        1.0        0        0        1     0        1    5      5   \n",
       "\n",
       "   duration  ...  job_retired  job_self-employed  job_services  job_student  \\\n",
       "0        79  ...            0                  0             0            0   \n",
       "1       220  ...            0                  0             1            0   \n",
       "2       185  ...            0                  0             0            0   \n",
       "3       199  ...            0                  0             0            0   \n",
       "4       226  ...            0                  0             0            0   \n",
       "\n",
       "   job_technician  job_unemployed  job_unknown  marital_divorced  \\\n",
       "0               0               1            0                 0   \n",
       "1               0               0            0                 0   \n",
       "2               0               0            0                 0   \n",
       "3               0               0            0                 0   \n",
       "4               0               0            0                 0   \n",
       "\n",
       "   marital_married  marital_single  \n",
       "0                1               0  \n",
       "1                1               0  \n",
       "2                0               1  \n",
       "3                1               0  \n",
       "4                1               0  \n",
       "\n",
       "[5 rows x 30 columns]"
      ]
     },
     "execution_count": 180,
     "metadata": {},
     "output_type": "execute_result"
    }
   ],
   "source": [
    "df.head()"
   ]
  },
  {
   "cell_type": "markdown",
   "id": "ca2a4d8a",
   "metadata": {},
   "source": [
    "#### Visualizando a distribuição das classes"
   ]
  },
  {
   "cell_type": "code",
   "execution_count": 181,
   "id": "586db3d6",
   "metadata": {},
   "outputs": [
    {
     "data": {
      "text/plain": [
       "0    3832\n",
       "1     502\n",
       "Name: y, dtype: int64"
      ]
     },
     "execution_count": 181,
     "metadata": {},
     "output_type": "execute_result"
    }
   ],
   "source": [
    "df.y.value_counts()"
   ]
  },
  {
   "cell_type": "code",
   "execution_count": 66,
   "id": "f1c3abb5",
   "metadata": {},
   "outputs": [
    {
     "data": {
      "image/png": "[encoded data removed]",
      "text/plain": [
       "<Figure size 432x288 with 1 Axes>"
      ]
     },
     "metadata": {
      "needs_background": "light"
     },
     "output_type": "display_data"
    }
   ],
   "source": [
    "ax = sns.countplot(x=\"y\",data=df)"
   ]
  },
  {
   "cell_type": "markdown",
   "id": "237dd3c5",
   "metadata": {},
   "source": [
    "#### Executando um Algoritmo Classificador"
   ]
  },
  {
   "cell_type": "code",
   "execution_count": 108,
   "id": "a9878885",
   "metadata": {},
   "outputs": [],
   "source": [
    "lr = LogisticRegression(solver='lbfgs', max_iter=100) #quase que ignora a classe q tem menos exemplos"
   ]
  },
  {
   "cell_type": "markdown",
   "id": "29d88b21",
   "metadata": {},
   "source": [
    "#### Separando dados e suas classes"
   ]
  },
  {
   "cell_type": "code",
   "execution_count": 109,
   "id": "bdd34a76",
   "metadata": {},
   "outputs": [],
   "source": [
    "X = df.drop(\"y\", axis=1) #estou apagando a coluna y, mas sem(1) modificar esse df permanentemente\n",
    "y = df.y"
   ]
  },
  {
   "cell_type": "markdown",
   "id": "e9ce9bef",
   "metadata": {},
   "source": [
    "#### Separa dados de treino e teste"
   ]
  },
  {
   "cell_type": "code",
   "execution_count": 110,
   "id": "84dc52f0",
   "metadata": {},
   "outputs": [],
   "source": [
    "X_train, X_test, y_train, y_test = train_test_split(X, y, random_state=1, stratify=y)\n",
    "# vai separar os dados de treino e teste, colocando 70% dos dados p treino e 30 p teste\n",
    "# se eu não passar qual o percentual, automaticamente por padrão ele poe nessa proporção\n",
    "# random = 1 quero mesma aleatóriedade\n",
    "# stratify = y embaralhar os dados"
   ]
  },
  {
   "cell_type": "markdown",
   "id": "9b6b649e",
   "metadata": {},
   "source": [
    "#### Treina o algoritmo"
   ]
  },
  {
   "cell_type": "code",
   "execution_count": 111,
   "id": "f6cc8555",
   "metadata": {},
   "outputs": [
    {
     "name": "stderr",
     "output_type": "stream",
     "text": [
      "C:\\Users\\lucas\\anaconda3\\lib\\site-packages\\sklearn\\linear_model\\_logistic.py:762: ConvergenceWarning: lbfgs failed to converge (status=1):\n",
      "STOP: TOTAL NO. of ITERATIONS REACHED LIMIT.\n",
      "\n",
      "Increase the number of iterations (max_iter) or scale the data as shown in:\n",
      "    https://scikit-learn.org/stable/modules/preprocessing.html\n",
      "Please also refer to the documentation for alternative solver options:\n",
      "    https://scikit-learn.org/stable/modules/linear_model.html#logistic-regression\n",
      "  n_iter_i = _check_optimize_result(\n"
     ]
    },
    {
     "data": {
      "text/plain": [
       "LogisticRegression()"
      ]
     },
     "execution_count": 111,
     "metadata": {},
     "output_type": "execute_result"
    }
   ],
   "source": [
    "lr.fit(X_train, y_train)\n",
    "\n",
    "# Vai colocar os dados de treino e teste em seus respectivos locais referenciados\n",
    "# vai treinar a regressão logística"
   ]
  },
  {
   "cell_type": "markdown",
   "id": "5fe61435",
   "metadata": {},
   "source": [
    "### Coloca as classificações na variável y_pred"
   ]
  },
  {
   "cell_type": "code",
   "execution_count": 112,
   "id": "9feb8805",
   "metadata": {},
   "outputs": [],
   "source": [
    "y_pred = lr.predict(X_test)\n",
    "\n",
    "# depois que treinou, tenho um modelo\n",
    "# vou usar o predict e vou passar p ele meus dados de teste, que vai \n",
    "# gerar predições"
   ]
  },
  {
   "cell_type": "markdown",
   "id": "4f0f516b",
   "metadata": {},
   "source": [
    "Acurácia em dados desbalanceados n é a melhor forma de avaliar,\n",
    "pois ela vai mostrar o percentual de acertos do nosso modelo.\n",
    "Como o dado é desbalanceado, se acertar muito em uma classe, a acurácia ficará alta, mesmo q ele erre muito em outra classe.\n",
    "\n",
    "A classe minoritária não se sairá mt bem por ter menos, então essa análise é tendenciosa."
   ]
  },
  {
   "cell_type": "code",
   "execution_count": 113,
   "id": "0604a33d",
   "metadata": {
    "scrolled": true
   },
   "outputs": [
    {
     "data": {
      "text/plain": [
       "0.8809963099630996"
      ]
     },
     "execution_count": 113,
     "metadata": {},
     "output_type": "execute_result"
    }
   ],
   "source": [
    "accuracy_score(y_test, y_pred)\n",
    "\n",
    "#checando acurácia do meu modelo"
   ]
  },
  {
   "cell_type": "markdown",
   "id": "c0085871",
   "metadata": {},
   "source": [
    "### Relatório de Classificação"
   ]
  },
  {
   "cell_type": "code",
   "execution_count": 114,
   "id": "acfc1689",
   "metadata": {},
   "outputs": [
    {
     "name": "stdout",
     "output_type": "stream",
     "text": [
      "              precision    recall  f1-score   support\n",
      "\n",
      "           0       0.90      0.98      0.94       958\n",
      "           1       0.46      0.14      0.22       126\n",
      "\n",
      "    accuracy                           0.88      1084\n",
      "   macro avg       0.68      0.56      0.58      1084\n",
      "weighted avg       0.85      0.88      0.85      1084\n",
      "\n"
     ]
    }
   ],
   "source": [
    "print(classification_report(y_test, y_pred))\n",
    "\n",
    "#Recall nos mostra que em uma classe, ele acerta mt bem, na outra mt mal.\n",
    "#Pq nosso modelo aprendeu mt mais em uma classe com mais exemplos do que as que tem menos. "
   ]
  },
  {
   "cell_type": "markdown",
   "id": "8e3edcfb",
   "metadata": {},
   "source": [
    "#### Matriz de confusão"
   ]
  },
  {
   "cell_type": "code",
   "execution_count": 116,
   "id": "1ab4ea82",
   "metadata": {},
   "outputs": [
    {
     "name": "stdout",
     "output_type": "stream",
     "text": [
      "Predito     0   1   All\n",
      "Real                   \n",
      "0         937  21   958\n",
      "1         108  18   126\n",
      "All      1045  39  1084\n"
     ]
    }
   ],
   "source": [
    "print(pd.crosstab(y_test, y_pred, \n",
    "     rownames=[\"Real\"], colnames=[\"Predito\"], margins=True))\n",
    "\n",
    "#nos mostra qual a numeração de como se saiu o classificador"
   ]
  },
  {
   "cell_type": "markdown",
   "id": "1b978bd2",
   "metadata": {},
   "source": [
    "### Aplicando Nearmiss:\n",
    "#### Undersampling dos nosso dados, diminuir a qt de exemplo da maj p aproximar à minotária. Igualar os dados de forma mais correta possível."
   ]
  },
  {
   "cell_type": "code",
   "execution_count": 117,
   "id": "be16216e",
   "metadata": {},
   "outputs": [],
   "source": [
    "nr = NearMiss()"
   ]
  },
  {
   "cell_type": "markdown",
   "id": "2a5381bd",
   "metadata": {},
   "source": [
    "#### Aplica o NearMiss"
   ]
  },
  {
   "cell_type": "markdown",
   "id": "f3df5a43",
   "metadata": {},
   "source": [
    "Aplica o NearMiss nos dados p igualar a qt de amostras das classes"
   ]
  },
  {
   "cell_type": "code",
   "execution_count": 118,
   "id": "f0e33cb6",
   "metadata": {},
   "outputs": [],
   "source": [
    "X, y = nr.fit_sample(X,y) #colocar p saída substituir as varáveis X e y"
   ]
  },
  {
   "cell_type": "code",
   "execution_count": 119,
   "id": "87303d98",
   "metadata": {},
   "outputs": [
    {
     "data": {
      "image/png": "[encoded data removed]",
      "text/plain": [
       "<Figure size 432x288 with 1 Axes>"
      ]
     },
     "metadata": {
      "needs_background": "light"
     },
     "output_type": "display_data"
    }
   ],
   "source": [
    "ax = sns.countplot(x=y) #vimos que igualou"
   ]
  },
  {
   "cell_type": "markdown",
   "id": "644f3598",
   "metadata": {},
   "source": [
    "#### Separar os modelos de treino e teste para avaliar o modelo novamente"
   ]
  },
  {
   "cell_type": "code",
   "execution_count": 121,
   "id": "c455d6bc",
   "metadata": {},
   "outputs": [],
   "source": [
    "X_train, X_test, y_train, y_test = train_test_split(X, y, random_state=1, stratify=y)\n"
   ]
  },
  {
   "cell_type": "code",
   "execution_count": 122,
   "id": "8b53ce80",
   "metadata": {},
   "outputs": [],
   "source": [
    "lr = LogisticRegression()"
   ]
  },
  {
   "cell_type": "code",
   "execution_count": 123,
   "id": "7145a3e0",
   "metadata": {},
   "outputs": [
    {
     "name": "stderr",
     "output_type": "stream",
     "text": [
      "C:\\Users\\lucas\\anaconda3\\lib\\site-packages\\sklearn\\linear_model\\_logistic.py:762: ConvergenceWarning: lbfgs failed to converge (status=1):\n",
      "STOP: TOTAL NO. of ITERATIONS REACHED LIMIT.\n",
      "\n",
      "Increase the number of iterations (max_iter) or scale the data as shown in:\n",
      "    https://scikit-learn.org/stable/modules/preprocessing.html\n",
      "Please also refer to the documentation for alternative solver options:\n",
      "    https://scikit-learn.org/stable/modules/linear_model.html#logistic-regression\n",
      "  n_iter_i = _check_optimize_result(\n"
     ]
    },
    {
     "data": {
      "text/plain": [
       "LogisticRegression()"
      ]
     },
     "execution_count": 123,
     "metadata": {},
     "output_type": "execute_result"
    }
   ],
   "source": [
    "lr.fit(X_train, y_train)"
   ]
  },
  {
   "cell_type": "code",
   "execution_count": 124,
   "id": "5059c76c",
   "metadata": {},
   "outputs": [],
   "source": [
    "y_pred = lr.predict(X_test)"
   ]
  },
  {
   "cell_type": "code",
   "execution_count": 125,
   "id": "d52c59e1",
   "metadata": {},
   "outputs": [
    {
     "data": {
      "text/plain": [
       "0.8725099601593626"
      ]
     },
     "execution_count": 125,
     "metadata": {},
     "output_type": "execute_result"
    }
   ],
   "source": [
    "accuracy_score(y_test, y_pred)"
   ]
  },
  {
   "cell_type": "code",
   "execution_count": 126,
   "id": "70eabff0",
   "metadata": {},
   "outputs": [
    {
     "name": "stdout",
     "output_type": "stream",
     "text": [
      "              precision    recall  f1-score   support\n",
      "\n",
      "           0       0.85      0.90      0.88       125\n",
      "           1       0.90      0.84      0.87       126\n",
      "\n",
      "    accuracy                           0.87       251\n",
      "   macro avg       0.87      0.87      0.87       251\n",
      "weighted avg       0.87      0.87      0.87       251\n",
      "\n"
     ]
    }
   ],
   "source": [
    "print(classification_report(y_test, y_pred))\n",
    "\n",
    "#ficou igualitário o aprendizado, percebe-se no recall"
   ]
  },
  {
   "cell_type": "code",
   "execution_count": 127,
   "id": "4ad4857a",
   "metadata": {},
   "outputs": [
    {
     "name": "stdout",
     "output_type": "stream",
     "text": [
      "Predito    0    1  All\n",
      "Real                  \n",
      "0        113   12  125\n",
      "1         20  106  126\n",
      "All      133  118  251\n"
     ]
    }
   ],
   "source": [
    "print(pd.crosstab(y_test, y_pred, \n",
    "     rownames=[\"Real\"], colnames=[\"Predito\"], margins=True))"
   ]
  },
  {
   "cell_type": "markdown",
   "id": "4e7e684d",
   "metadata": {},
   "source": [
    "### Aplicando o SMOTER(Synthetic Minority Over-Sampling Technique)\n",
    "Permite criar dados sintéticos a partir de dados que já temos"
   ]
  },
  {
   "cell_type": "markdown",
   "id": "56bb83eb",
   "metadata": {},
   "source": [
    "#### Separa os dados e classes"
   ]
  },
  {
   "cell_type": "code",
   "execution_count": 182,
   "id": "d40bb69e",
   "metadata": {},
   "outputs": [],
   "source": [
    "X = df.drop(\"y\", axis = 1)\n",
    "y = df.y"
   ]
  },
  {
   "cell_type": "code",
   "execution_count": 183,
   "id": "12791ea1",
   "metadata": {},
   "outputs": [
    {
     "data": {
      "text/plain": [
       "array([3832,  502], dtype=int64)"
      ]
     },
     "execution_count": 183,
     "metadata": {},
     "output_type": "execute_result"
    }
   ],
   "source": [
    "np.bincount(y) #visualiza a quantidade de dados por classe"
   ]
  },
  {
   "cell_type": "markdown",
   "id": "d97ab3f7",
   "metadata": {},
   "source": [
    "#### Instancia o SMOTE"
   ]
  },
  {
   "cell_type": "code",
   "execution_count": 184,
   "id": "eb92a0d4",
   "metadata": {},
   "outputs": [],
   "source": [
    "smt = SMOTE()\n",
    "\n",
    "# existe o parâmetro sampling_strategy=0.5\n",
    "# ele permite ajustar o percentual de geração de dados sintéticos\n",
    "# 0.5 = ajuste os minoritários até 50% da classe majoritária"
   ]
  },
  {
   "cell_type": "code",
   "execution_count": 185,
   "id": "a1b1d564",
   "metadata": {},
   "outputs": [],
   "source": [
    "X, y = smt.fit_sample(X, y) #igualou as classes"
   ]
  },
  {
   "cell_type": "code",
   "execution_count": 186,
   "id": "c2754736",
   "metadata": {},
   "outputs": [
    {
     "data": {
      "text/plain": [
       "array([3832, 3832], dtype=int64)"
      ]
     },
     "execution_count": 186,
     "metadata": {},
     "output_type": "execute_result"
    }
   ],
   "source": [
    "np.bincount(y)"
   ]
  },
  {
   "cell_type": "code",
   "execution_count": 194,
   "id": "8b6195fe",
   "metadata": {},
   "outputs": [
    {
     "data": {
      "image/png": "[encoded data removed]",
      "text/plain": [
       "<Figure size 432x288 with 1 Axes>"
      ]
     },
     "metadata": {
      "needs_background": "light"
     },
     "output_type": "display_data"
    }
   ],
   "source": [
    "ax = sns.countplot(x=y) #vimos que igualou"
   ]
  },
  {
   "cell_type": "markdown",
   "id": "54b3d2c2",
   "metadata": {},
   "source": [
    "#### Separando treino e teste"
   ]
  },
  {
   "cell_type": "code",
   "execution_count": 188,
   "id": "09c3bf63",
   "metadata": {},
   "outputs": [],
   "source": [
    "X_train, X_test, y_train, y_test = train_test_split(X, y, random_state=1, stratify=y)\n"
   ]
  },
  {
   "cell_type": "markdown",
   "id": "c79ca884",
   "metadata": {},
   "source": [
    "#### Instancia o classificador"
   ]
  },
  {
   "cell_type": "code",
   "execution_count": 189,
   "id": "3fd15912",
   "metadata": {},
   "outputs": [],
   "source": [
    "lr = LogisticRegression()"
   ]
  },
  {
   "cell_type": "markdown",
   "id": "13f3d3a6",
   "metadata": {},
   "source": [
    "#### Treina o algoritmo"
   ]
  },
  {
   "cell_type": "code",
   "execution_count": 190,
   "id": "5a86cc50",
   "metadata": {},
   "outputs": [
    {
     "name": "stderr",
     "output_type": "stream",
     "text": [
      "C:\\Users\\lucas\\anaconda3\\lib\\site-packages\\sklearn\\linear_model\\_logistic.py:762: ConvergenceWarning: lbfgs failed to converge (status=1):\n",
      "STOP: TOTAL NO. of ITERATIONS REACHED LIMIT.\n",
      "\n",
      "Increase the number of iterations (max_iter) or scale the data as shown in:\n",
      "    https://scikit-learn.org/stable/modules/preprocessing.html\n",
      "Please also refer to the documentation for alternative solver options:\n",
      "    https://scikit-learn.org/stable/modules/linear_model.html#logistic-regression\n",
      "  n_iter_i = _check_optimize_result(\n"
     ]
    },
    {
     "data": {
      "text/plain": [
       "LogisticRegression()"
      ]
     },
     "execution_count": 190,
     "metadata": {},
     "output_type": "execute_result"
    }
   ],
   "source": [
    "lr.fit(X_train, y_train)"
   ]
  },
  {
   "cell_type": "markdown",
   "id": "4bc1cd00",
   "metadata": {},
   "source": [
    "#### Coloca as classificações na variável y_pred"
   ]
  },
  {
   "cell_type": "code",
   "execution_count": 191,
   "id": "f7a742e2",
   "metadata": {},
   "outputs": [],
   "source": [
    "y_pred = lr.predict(X_test)"
   ]
  },
  {
   "cell_type": "markdown",
   "id": "604f0829",
   "metadata": {},
   "source": [
    "#### Checa a acurácia do modelo"
   ]
  },
  {
   "cell_type": "code",
   "execution_count": 192,
   "id": "dec0e954",
   "metadata": {},
   "outputs": [
    {
     "data": {
      "text/plain": [
       "0.8215031315240083"
      ]
     },
     "execution_count": 192,
     "metadata": {},
     "output_type": "execute_result"
    }
   ],
   "source": [
    "accuracy_score(y_test, y_pred)"
   ]
  },
  {
   "cell_type": "code",
   "execution_count": 195,
   "id": "65bbe434",
   "metadata": {},
   "outputs": [
    {
     "name": "stdout",
     "output_type": "stream",
     "text": [
      "              precision    recall  f1-score   support\n",
      "\n",
      "           0       0.83      0.81      0.82       958\n",
      "           1       0.82      0.83      0.82       958\n",
      "\n",
      "    accuracy                           0.82      1916\n",
      "   macro avg       0.82      0.82      0.82      1916\n",
      "weighted avg       0.82      0.82      0.82      1916\n",
      "\n"
     ]
    }
   ],
   "source": [
    "print(classification_report(y_test, y_pred))"
   ]
  },
  {
   "cell_type": "code",
   "execution_count": 196,
   "id": "07bd2a4e",
   "metadata": {},
   "outputs": [
    {
     "name": "stdout",
     "output_type": "stream",
     "text": [
      "Predito    0    1   All\n",
      "Real                   \n",
      "0        780  178   958\n",
      "1        164  794   958\n",
      "All      944  972  1916\n"
     ]
    }
   ],
   "source": [
    "print(pd.crosstab(y_test, y_pred, \n",
    "     rownames=[\"Real\"], colnames=[\"Predito\"], margins=True))"
   ]
  },
  {
   "cell_type": "code",
   "execution_count": null,
   "id": "cf415064",
   "metadata": {},
   "outputs": [],
   "source": []
  }
 ],
 "metadata": {
  "kernelspec": {
   "display_name": "Python 3",
   "language": "python",
   "name": "python3"
  },
  "language_info": {
   "codemirror_mode": {
    "name": "ipython",
    "version": 3
   },
   "file_extension": ".py",
   "mimetype": "text/x-python",
   "name": "python",
   "nbconvert_exporter": "python",
   "pygments_lexer": "ipython3",
   "version": "3.8.8"
  }
 },
 "nbformat": 4,
 "nbformat_minor": 5
}
